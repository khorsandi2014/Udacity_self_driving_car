{
 "cells": [
  {
   "cell_type": "code",
   "execution_count": 1,
   "metadata": {},
   "outputs": [
    {
     "name": "stdout",
     "output_type": "stream",
     "text": [
      "8036\n"
     ]
    }
   ],
   "source": [
    "import os\n",
    "import csv\n",
    "from sklearn.utils import shuffle\n",
    "\n",
    "samples = []\n",
    "with open('./data/driving_log.csv') as csvfile:\n",
    "    reader = csv.reader(csvfile)\n",
    "    for line in reader:\n",
    "        samples.append(line)\n",
    "del samples[0]\n",
    "print(len(samples))\n",
    "from sklearn.model_selection import train_test_split\n",
    "train_samples, validation_samples = train_test_split(samples, test_size=0.2)\n",
    "#print(len(train_samples))\n",
    "#print(len(validation_samples))"
   ]
  },
  {
   "cell_type": "code",
   "execution_count": 2,
   "metadata": {
    "collapsed": true
   },
   "outputs": [],
   "source": [
    "import cv2\n",
    "import numpy as np\n",
    "#import sklearn\n",
    "\n",
    "def generator(samples, batch_size=32,flag = 'train'):\n",
    "    num_samples = len(samples)\n",
    "    if flag == 'train':\n",
    "        views = ['left','center','right']\n",
    "    else:\n",
    "        views = ['center']\n",
    "    correction = 0.2\n",
    "    while 1: # Loop forever so the generator never terminates\n",
    "        shuffle(samples)\n",
    "        for offset in range(0, num_samples, batch_size):\n",
    "            batch_samples = samples[offset:offset+batch_size]\n",
    "\n",
    "            images = []\n",
    "            angles = []\n",
    "            for batch_sample in batch_samples:\n",
    "                for view in views:\n",
    "                    image = None\n",
    "                    angle = float(batch_sample[3])\n",
    "                    if view =='center':\n",
    "                        name = 'data/IMG/'+batch_sample[0].split('/')[-1]\n",
    "                        image = cv2.imread(name)\n",
    "                    elif view =='left':\n",
    "                        name = 'data/IMG/'+batch_sample[1].split('/')[-1]\n",
    "                        image = cv2.imread(name)\n",
    "                        angle +=correction\n",
    "                    elif view =='right':\n",
    "                        name = 'data/IMG/'+batch_sample[2].split('/')[-1]\n",
    "                        image = cv2.imread(name)\n",
    "                        angle -=correction\n",
    "                            \n",
    "                    # Convert the image to RGB\n",
    "                    #image = cv2.cvtColor(image,cv2.COLOR_BGR2RGB)   \n",
    "                    images.append(image)\n",
    "                    angles.append(angle)\n",
    "                    \n",
    "                    #Augmentation\n",
    "                    \n",
    "                    #Flip the image\n",
    "                    image = cv2.flip(image, 1)\n",
    "                    angle *= -1.0\n",
    "                    images.append(image)\n",
    "                    angles.append(angle)\n",
    "                    \n",
    "                    \n",
    "            # trim image to only see section with road\n",
    "            X_train = np.array(images)\n",
    "            y_train = np.array(angles)\n",
    "            yield shuffle(X_train, y_train)\n",
    "\n",
    "# compile and train the model using the generator function\n",
    "train_generator = generator(train_samples, batch_size=32)\n",
    "validation_generator = generator(validation_samples, batch_size=32)\n",
    "\n",
    "ch, row, col = 3, 160, 320  # Trimmed image format"
   ]
  },
  {
   "cell_type": "code",
   "execution_count": 6,
   "metadata": {},
   "outputs": [
    {
     "name": "stdout",
     "output_type": "stream",
     "text": [
      "Epoch 1/5\n",
      "38568/38568 [==============================] - 65s - loss: 0.0202 - val_loss: 0.0157\n",
      "Epoch 2/5\n",
      "38568/38568 [==============================] - 63s - loss: 0.0168 - val_loss: 0.0176\n",
      "Epoch 3/5\n",
      "38568/38568 [==============================] - 63s - loss: 0.0159 - val_loss: 0.0173\n",
      "Epoch 4/5\n",
      "38568/38568 [==============================] - 63s - loss: 0.0153 - val_loss: 0.0137\n",
      "Epoch 5/5\n",
      "38568/38568 [==============================] - 63s - loss: 0.0146 - val_loss: 0.0141\n"
     ]
    }
   ],
   "source": [
    "from keras.models import Sequential\n",
    "from keras.layers import Flatten, Dense, Lambda\n",
    "from keras.layers import Convolution2D, Reshape, Cropping2D\n",
    "from keras.layers.pooling import MaxPooling2D\n",
    "\n",
    "\n",
    "model = Sequential()\n",
    "model.add(Lambda(lambda x: x / 255.0 - 0.5, input_shape = (160,320,3)))\n",
    "\n",
    "model.add(Cropping2D(cropping=((70,25), (0,0))))\n",
    "#model.add(Reshape((80,160,3)))\n",
    "#model.add(Lambda(lambda x: cv2.resize(x, None, fx=0.5, fy=0.5)))\n",
    "#model.add(Flatten(input_shape = (160,320,3)))\n",
    "model.add(Convolution2D(24,5,5, subsample=(2,2), activation='relu'))\n",
    "model.add(Convolution2D(36,5,5,subsample=(2,2),activation='relu'))\n",
    "#model.add(MaxPooling2D())\n",
    "\n",
    "model.add(Convolution2D(48,5,5,subsample=(2,2),activation='relu'))\n",
    "model.add(Convolution2D(64,3,3,activation='relu'))\n",
    "model.add(Convolution2D(64,3,3,activation='relu'))\n",
    "#model.add(MaxPooling2D())\n",
    "model.add(Flatten())\n",
    "model.add(Dense(100))\n",
    "model.add(Dense(50))\n",
    "model.add(Dense(10))\n",
    "model.add(Dense(1))\n",
    "\n",
    "\n",
    "model.compile(loss='mse', optimizer='adam')\n",
    "history = model.fit_generator(train_generator, samples_per_epoch= \n",
    "                    len(train_samples)*2*3, validation_data=validation_generator,\n",
    "                    nb_val_samples=len(validation_samples), nb_epoch=5)\n",
    "\n",
    "model.save('model.h5')"
   ]
  },
  {
   "cell_type": "code",
   "execution_count": 7,
   "metadata": {},
   "outputs": [
    {
     "name": "stdout",
     "output_type": "stream",
     "text": [
      "dict_keys(['val_loss', 'loss'])\n"
     ]
    },
    {
     "data": {
      "image/png": "[encoded data removed]",
      "text/plain": [
       "<matplotlib.figure.Figure at 0x7fad2f45ada0>"
      ]
     },
     "metadata": {},
     "output_type": "display_data"
    }
   ],
   "source": [
    "### print the keys contained in the history object\n",
    "print(history.history.keys())\n",
    "import matplotlib.pyplot as plt\n",
    "%matplotlib inline\n",
    "### plot the training and validation loss for each epoch\n",
    "plt.plot(history.history['loss'])\n",
    "plt.plot(history.history['val_loss'])\n",
    "plt.title('model mean squared error loss')\n",
    "plt.ylabel('mean squared error loss')\n",
    "plt.xlabel('epoch')\n",
    "plt.legend(['training set', 'validation set'], loc='upper right')\n",
    "plt.show()"
   ]
  },
  {
   "cell_type": "code",
   "execution_count": null,
   "metadata": {
    "collapsed": true
   },
   "outputs": [],
   "source": []
  }
 ],
 "metadata": {
  "kernelspec": {
   "display_name": "Python 3",
   "language": "python",
   "name": "python3"
  },
  "language_info": {
   "codemirror_mode": {
    "name": "ipython",
    "version": 3
   },
   "file_extension": ".py",
   "mimetype": "text/x-python",
   "name": "python",
   "nbconvert_exporter": "python",
   "pygments_lexer": "ipython3",
   "version": "3.5.2"
  },
  "widgets": {
   "state": {},
   "version": "1.1.2"
  }
 },
 "nbformat": 4,
 "nbformat_minor": 2
}
